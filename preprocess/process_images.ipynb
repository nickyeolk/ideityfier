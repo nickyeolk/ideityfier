{
 "cells": [
  {
   "cell_type": "code",
   "execution_count": 1,
   "metadata": {},
   "outputs": [],
   "source": [
    "import cv2\n",
    "import matplotlib.pyplot as plt\n",
    "import numpy as np\n",
    "import os\n",
    "from sklearn.utils import shuffle"
   ]
  },
  {
   "cell_type": "code",
   "execution_count": 4,
   "metadata": {},
   "outputs": [
    {
     "name": "stdout",
     "output_type": "stream",
     "text": [
      "guanyin 0\n",
      "mi le fo 1\n",
      "sun wu kong 2\n"
     ]
    }
   ],
   "source": [
    "categories = os.listdir('./data/raw/')\n",
    "nrows = 128\n",
    "ncols = 128\n",
    "\n",
    "def read_reshape_combine(all_cats,nrows,ncols):\n",
    "    X = []\n",
    "    y = []\n",
    "    for ii, category in enumerate(all_cats):\n",
    "        print(category,ii)\n",
    "        images = os.listdir('./data/raw/'+category)\n",
    "        for image in images:\n",
    "            X.append(cv2.resize(cv2.imread('./data/raw/'+category+'/'+image,cv2.IMREAD_COLOR), (nrows,ncols), interpolation = cv2.INTER_CUBIC))\n",
    "            y.append(ii)\n",
    "    return np.array(X), np.array(y)\n",
    "X, y = read_reshape_combine(categories, nrows, ncols)"
   ]
  },
  {
   "cell_type": "code",
   "execution_count": 8,
   "metadata": {},
   "outputs": [
    {
     "name": "stdout",
     "output_type": "stream",
     "text": [
      "(236, 128, 128, 3) (236,)\n"
     ]
    }
   ],
   "source": [
    "# Shuffle dataset\n",
    "X, y = shuffle(X, y, random_state=0)\n",
    "print(np.shape(X), np.shape(y))"
   ]
  },
  {
   "cell_type": "code",
   "execution_count": 9,
   "metadata": {},
   "outputs": [],
   "source": [
    "np.savez('./data/processed/ideityfy.npz', X=X, y=y)"
   ]
  }
 ],
 "metadata": {
  "kernelspec": {
   "display_name": "Python (py3env)",
   "language": "python",
   "name": "py3env"
  },
  "language_info": {
   "codemirror_mode": {
    "name": "ipython",
    "version": 3
   },
   "file_extension": ".py",
   "mimetype": "text/x-python",
   "name": "python",
   "nbconvert_exporter": "python",
   "pygments_lexer": "ipython3",
   "version": "3.6.6"
  }
 },
 "nbformat": 4,
 "nbformat_minor": 2
}
